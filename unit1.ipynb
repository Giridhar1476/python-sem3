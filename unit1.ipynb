{
  "nbformat": 4,
  "nbformat_minor": 0,
  "metadata": {
    "colab": {
      "provenance": [],
      "authorship_tag": "ABX9TyPwNA2QafVZStWTvFcvI4S+",
      "include_colab_link": true
    },
    "kernelspec": {
      "name": "python3",
      "display_name": "Python 3"
    },
    "language_info": {
      "name": "python"
    }
  },
  "cells": [
    {
      "cell_type": "markdown",
      "metadata": {
        "id": "view-in-github",
        "colab_type": "text"
      },
      "source": [
        "<a href=\"https://colab.research.google.com/github/Giridhar1476/python-sem3/blob/main/unit1.ipynb\" target=\"_parent\"><img src=\"https://colab.research.google.com/assets/colab-badge.svg\" alt=\"Open In Colab\"/></a>"
      ]
    },
    {
      "cell_type": "code",
      "execution_count": null,
      "metadata": {
        "id": "NtL5Qh0jJQBU"
      },
      "outputs": [],
      "source": []
    },
    {
      "cell_type": "markdown",
      "source": [
        "#declaration of cell"
      ],
      "metadata": {
        "id": "QcboaV3WYL24"
      }
    },
    {
      "cell_type": "code",
      "source": [
        "a=1\n",
        "print('the value of a is',a)"
      ],
      "metadata": {
        "colab": {
          "base_uri": "https://localhost:8080/"
        },
        "id": "F1NhDpfMYRD3",
        "outputId": "dec543df-dcf3-4df1-9e2d-a138b8b0bb05"
      },
      "execution_count": null,
      "outputs": [
        {
          "output_type": "stream",
          "name": "stdout",
          "text": [
            "the value of a is 1\n"
          ]
        }
      ]
    },
    {
      "cell_type": "markdown",
      "source": [
        "#Multiple assignment in a variable"
      ],
      "metadata": {
        "id": "HeMgCirnYp0I"
      }
    },
    {
      "cell_type": "code",
      "source": [
        "a,b = 10,20\n",
        "print(a,b)"
      ],
      "metadata": {
        "colab": {
          "base_uri": "https://localhost:8080/"
        },
        "id": "dwDiP4zSYwD4",
        "outputId": "9b56f66f-ac28-4f37-99d6-d1856d58d3c9"
      },
      "execution_count": null,
      "outputs": [
        {
          "output_type": "stream",
          "name": "stdout",
          "text": [
            "10 20\n"
          ]
        }
      ]
    },
    {
      "cell_type": "markdown",
      "source": [
        "#Multiple assignments with same valuse"
      ],
      "metadata": {
        "id": "PaFJ0ervY4xm"
      }
    },
    {
      "cell_type": "code",
      "source": [
        "a = b = 10\n",
        "print(a,b)"
      ],
      "metadata": {
        "colab": {
          "base_uri": "https://localhost:8080/"
        },
        "id": "5B36_Ma9ZADb",
        "outputId": "9f171bfd-28fb-4e6c-fc69-c2acd28c402a"
      },
      "execution_count": null,
      "outputs": [
        {
          "output_type": "stream",
          "name": "stdout",
          "text": [
            "10 10\n"
          ]
        }
      ]
    },
    {
      "cell_type": "markdown",
      "source": [
        "#Rules for naming variable\n",
        "\n",
        "1. Variable name can only contaion letters,digit and underscore\n",
        "2. A variable name cannot start with a digit\n",
        "3. variables name are case sensitive\n",
        "4. avoid using python key words such as if,else,class\n"
      ],
      "metadata": {
        "id": "N2fA0NXjZHW6"
      }
    },
    {
      "cell_type": "code",
      "source": [
        "a = 10\n",
        "class = 1\n",
        "user_name =\"Giridhar\"\n",
        "1_name = \"error\"\n",
        "print(a,class,user_name,1_name)"
      ],
      "metadata": {
        "colab": {
          "base_uri": "https://localhost:8080/",
          "height": 106
        },
        "id": "aO6-QqERZ2Kh",
        "outputId": "482658f1-aca5-4a65-a450-131f59ea31ee"
      },
      "execution_count": null,
      "outputs": [
        {
          "output_type": "error",
          "ename": "SyntaxError",
          "evalue": "invalid decimal literal (ipython-input-3970629924.py, line 4)",
          "traceback": [
            "\u001b[0;36m  File \u001b[0;32m\"/tmp/ipython-input-3970629924.py\"\u001b[0;36m, line \u001b[0;32m4\u001b[0m\n\u001b[0;31m    1_name = \"error\"\u001b[0m\n\u001b[0m     ^\u001b[0m\n\u001b[0;31mSyntaxError\u001b[0m\u001b[0;31m:\u001b[0m invalid decimal literal\n"
          ]
        }
      ]
    },
    {
      "cell_type": "markdown",
      "source": [
        "#String Datatypes"
      ],
      "metadata": {
        "id": "oUL0ok9dZ02t"
      }
    },
    {
      "cell_type": "markdown",
      "source": [
        "1.Array of datatypes representing unicode characters\n",
        "\n",
        "2.No seperate character datatype;a character is a string of length one\n",
        "\n",
        "3.String can be created using \"\n",
        "\n",
        "4.Acces individual character using indexing,starting at 0\n",
        "\n",
        "5.STRINgs are immutable\n",
        "\n",
        "6.str()"
      ],
      "metadata": {
        "id": "XGMKnxa0aBJv"
      }
    },
    {
      "cell_type": "code",
      "source": [
        "s1 = \"This is a string\"\n",
        "print(s1)\n",
        "s2= \"this \"+\"is \"+\"also \"+\"a \"+\"string\"\n",
        "print(s2)\n",
        "print(len(s1))\n",
        "print(len(s2))"
      ],
      "metadata": {
        "colab": {
          "base_uri": "https://localhost:8080/"
        },
        "id": "DROWZSSBbFxc",
        "outputId": "d8ff28b5-364c-4c5d-f041-688d6a43db6b"
      },
      "execution_count": null,
      "outputs": [
        {
          "output_type": "stream",
          "name": "stdout",
          "text": [
            "This is a string\n",
            "this is also a string\n",
            "16\n",
            "21\n"
          ]
        }
      ]
    },
    {
      "cell_type": "code",
      "source": [
        "s3 = \"this is a string \\\n",
        "written along multiple lines\"\n",
        "print(s3)"
      ],
      "metadata": {
        "colab": {
          "base_uri": "https://localhost:8080/"
        },
        "id": "LqUz3peUbkvN",
        "outputId": "6cddc3cf-25da-46a3-83cf-dfc4e9a8a0fe"
      },
      "execution_count": null,
      "outputs": [
        {
          "output_type": "stream",
          "name": "stdout",
          "text": [
            "this is a string written along multiple lines\n"
          ]
        }
      ]
    },
    {
      "cell_type": "code",
      "source": [
        "#multiply string with an integer to get multiple lines\n",
        "Iron_man = \"SMASH IT!\\n\"\n",
        "print(Iron_man*5)"
      ],
      "metadata": {
        "colab": {
          "base_uri": "https://localhost:8080/"
        },
        "id": "7IbOkYlkcJ2-",
        "outputId": "95e4ba5b-da7c-43fc-e1d3-46c99a1fd8ec"
      },
      "execution_count": null,
      "outputs": [
        {
          "output_type": "stream",
          "name": "stdout",
          "text": [
            "SMASH IT!\n",
            "SMASH IT!\n",
            "SMASH IT!\n",
            "SMASH IT!\n",
            "SMASH IT!\n",
            "\n"
          ]
        }
      ]
    },
    {
      "cell_type": "code",
      "source": [
        "Iron_man_2 = \"hello world = this is not a comment\"\n",
        "Iron_man_2"
      ],
      "metadata": {
        "colab": {
          "base_uri": "https://localhost:8080/",
          "height": 35
        },
        "id": "8FdEtHCkc52n",
        "outputId": "cb8ec7c5-1e84-40d8-b645-fac07d70678d"
      },
      "execution_count": null,
      "outputs": [
        {
          "output_type": "execute_result",
          "data": {
            "text/plain": [
              "'hello world = this is not a comment'"
            ],
            "application/vnd.google.colaboratory.intrinsic+json": {
              "type": "string"
            }
          },
          "metadata": {},
          "execution_count": 7
        }
      ]
    },
    {
      "cell_type": "code",
      "source": [
        "Avenger = \"IRONMAN\"\n",
        "length  = len(Avenger)\n",
        "#length\n",
        "first_ch=Avenger[0] # both are same -->firstch=Avenger[0]\n",
        "print(\"the first character is :\",(first_ch))"
      ],
      "metadata": {
        "colab": {
          "base_uri": "https://localhost:8080/"
        },
        "id": "sbezDOc8dd4W",
        "outputId": "c1b35cc9-9dbd-4fb5-9b29-976a1db9def6"
      },
      "execution_count": null,
      "outputs": [
        {
          "output_type": "stream",
          "name": "stdout",
          "text": [
            "the first character is : I\n"
          ]
        }
      ]
    },
    {
      "cell_type": "code",
      "source": [
        "#negative indexing\n",
        "last_ch=Avenger[-1]\n",
        "print(\"the last character is :\",last_ch)"
      ],
      "metadata": {
        "colab": {
          "base_uri": "https://localhost:8080/"
        },
        "id": "b231JcGNewyg",
        "outputId": "a0218fda-c704-4a8a-cd55-55addee4d3f8"
      },
      "execution_count": null,
      "outputs": [
        {
          "output_type": "stream",
          "name": "stdout",
          "text": [
            "the last character is : N\n"
          ]
        }
      ]
    },
    {
      "cell_type": "code",
      "source": [
        "#slicing\n",
        "slicing = Avenger[1:5]\n",
        "print(slicing)"
      ],
      "metadata": {
        "colab": {
          "base_uri": "https://localhost:8080/"
        },
        "id": "TBHyqfGofJgG",
        "outputId": "10ca40b4-1fef-40f8-e12f-81f29ecb3632"
      },
      "execution_count": null,
      "outputs": [
        {
          "output_type": "stream",
          "name": "stdout",
          "text": [
            "RONM\n"
          ]
        }
      ]
    },
    {
      "cell_type": "code",
      "source": [
        "#slicing\n",
        "slicing = Avenger[:6]\n",
        "print(slicing)"
      ],
      "metadata": {
        "colab": {
          "base_uri": "https://localhost:8080/"
        },
        "id": "uoEUihpSfreO",
        "outputId": "1ec2054d-216d-432f-a99d-a11b68339c70"
      },
      "execution_count": null,
      "outputs": [
        {
          "output_type": "stream",
          "name": "stdout",
          "text": [
            "IRONMA\n"
          ]
        }
      ]
    },
    {
      "cell_type": "code",
      "source": [
        "slicing = Avenger[1:]\n",
        "print(slicing)"
      ],
      "metadata": {
        "colab": {
          "base_uri": "https://localhost:8080/"
        },
        "id": "oJ2ItFfjjnWd",
        "outputId": "c78e8517-69e8-49ca-8446-537fef09b491"
      },
      "execution_count": null,
      "outputs": [
        {
          "output_type": "stream",
          "name": "stdout",
          "text": [
            "RONMAN\n"
          ]
        }
      ]
    },
    {
      "cell_type": "code",
      "source": [
        "slicing = Avenger[:-1]\n",
        "print(slicing)"
      ],
      "metadata": {
        "colab": {
          "base_uri": "https://localhost:8080/"
        },
        "id": "DrWAR7S5j5CL",
        "outputId": "d23c7280-9fdf-4c37-81b3-c33a92f8d6ed"
      },
      "execution_count": null,
      "outputs": [
        {
          "output_type": "stream",
          "name": "stdout",
          "text": [
            "IRONMA\n"
          ]
        }
      ]
    },
    {
      "cell_type": "code",
      "source": [
        "slicing = Avenger[::]\n",
        "print(slicing)"
      ],
      "metadata": {
        "colab": {
          "base_uri": "https://localhost:8080/"
        },
        "id": "PIH2C3Acj_4v",
        "outputId": "6ce635a2-6b01-4050-c955-6a4e03eb6829"
      },
      "execution_count": null,
      "outputs": [
        {
          "output_type": "stream",
          "name": "stdout",
          "text": [
            "IRONMAN\n"
          ]
        }
      ]
    },
    {
      "cell_type": "code",
      "source": [
        "Avenger[0] = \"0\"\n",
        "print(Avenger)\n",
        "#beacause strings are imutable"
      ],
      "metadata": {
        "colab": {
          "base_uri": "https://localhost:8080/",
          "height": 176
        },
        "id": "eSHO86IFkTcz",
        "outputId": "2e5715ac-c571-4184-f190-c603d2b9cac2"
      },
      "execution_count": null,
      "outputs": [
        {
          "output_type": "error",
          "ename": "TypeError",
          "evalue": "'str' object does not support item assignment",
          "traceback": [
            "\u001b[0;31m---------------------------------------------------------------------------\u001b[0m",
            "\u001b[0;31mTypeError\u001b[0m                                 Traceback (most recent call last)",
            "\u001b[0;32m/tmp/ipython-input-1401920150.py\u001b[0m in \u001b[0;36m<cell line: 0>\u001b[0;34m()\u001b[0m\n\u001b[0;32m----> 1\u001b[0;31m \u001b[0mAvenger\u001b[0m\u001b[0;34m[\u001b[0m\u001b[0;36m0\u001b[0m\u001b[0;34m]\u001b[0m \u001b[0;34m=\u001b[0m \u001b[0;34m\"0\"\u001b[0m\u001b[0;34m\u001b[0m\u001b[0;34m\u001b[0m\u001b[0m\n\u001b[0m\u001b[1;32m      2\u001b[0m \u001b[0mprint\u001b[0m\u001b[0;34m(\u001b[0m\u001b[0mAvenger\u001b[0m\u001b[0;34m)\u001b[0m\u001b[0;34m\u001b[0m\u001b[0;34m\u001b[0m\u001b[0m\n\u001b[1;32m      3\u001b[0m \u001b[0;31m#beacause strings are imutable\u001b[0m\u001b[0;34m\u001b[0m\u001b[0;34m\u001b[0m\u001b[0m\n",
            "\u001b[0;31mTypeError\u001b[0m: 'str' object does not support item assignment"
          ]
        }
      ]
    },
    {
      "cell_type": "code",
      "source": [
        "for ch in Avenger :\n",
        " print(ch)"
      ],
      "metadata": {
        "colab": {
          "base_uri": "https://localhost:8080/"
        },
        "id": "B-x44-T0lj6g",
        "outputId": "15ae9400-2911-4cf6-f719-34a8c40846a4"
      },
      "execution_count": null,
      "outputs": [
        {
          "output_type": "stream",
          "name": "stdout",
          "text": [
            "I\n",
            "R\n",
            "O\n",
            "N\n",
            "M\n",
            "A\n",
            "N\n"
          ]
        }
      ]
    },
    {
      "cell_type": "code",
      "source": [
        "for i in range(len(Avenger)):\n",
        "  print(i,Avenger[i])"
      ],
      "metadata": {
        "colab": {
          "base_uri": "https://localhost:8080/"
        },
        "id": "oyPLA86ml2q7",
        "outputId": "c08e0f76-144d-44fc-d09a-73795465f2c3"
      },
      "execution_count": null,
      "outputs": [
        {
          "output_type": "stream",
          "name": "stdout",
          "text": [
            "0 I\n",
            "1 R\n",
            "2 O\n",
            "3 N\n",
            "4 M\n",
            "5 A\n",
            "6 N\n"
          ]
        }
      ]
    },
    {
      "cell_type": "code",
      "source": [
        "n= len(Avenger)\n",
        "for i in range(len(Avenger)):\n",
        "  print((n-1)-i,Avenger[(n-1)-i])"
      ],
      "metadata": {
        "colab": {
          "base_uri": "https://localhost:8080/"
        },
        "id": "AyPi1sjcmdb0",
        "outputId": "2b12729a-29fe-42e9-879a-8e918ae8fc01"
      },
      "execution_count": null,
      "outputs": [
        {
          "output_type": "stream",
          "name": "stdout",
          "text": [
            "6 N\n",
            "5 A\n",
            "4 M\n",
            "3 N\n",
            "2 O\n",
            "1 R\n",
            "0 I\n"
          ]
        }
      ]
    },
    {
      "cell_type": "markdown",
      "source": [
        "#palindrome or not"
      ],
      "metadata": {
        "id": "HEOi70lnnpRm"
      }
    },
    {
      "cell_type": "code",
      "source": [
        "name = input()\n",
        "n=len(name)\n",
        "for name=name:\n",
        "  print(f)"
      ],
      "metadata": {
        "id": "ejeWxvaxmvjR"
      },
      "execution_count": null,
      "outputs": []
    }
  ]
}