{
  "nbformat": 4,
  "nbformat_minor": 0,
  "metadata": {
    "colab": {
      "provenance": [],
      "authorship_tag": "ABX9TyPnzQgr+RBQON7TgdHcG44T",
      "include_colab_link": true
    },
    "kernelspec": {
      "name": "python3",
      "display_name": "Python 3"
    },
    "language_info": {
      "name": "python"
    }
  },
  "cells": [
    {
      "cell_type": "markdown",
      "metadata": {
        "id": "view-in-github",
        "colab_type": "text"
      },
      "source": [
        "<a href=\"https://colab.research.google.com/github/Giridhar1476/python-sem3/blob/main/unit1.ipynb\" target=\"_parent\"><img src=\"https://colab.research.google.com/assets/colab-badge.svg\" alt=\"Open In Colab\"/></a>"
      ]
    },
    {
      "cell_type": "code",
      "execution_count": null,
      "metadata": {
        "id": "NtL5Qh0jJQBU"
      },
      "outputs": [],
      "source": []
    },
    {
      "cell_type": "markdown",
      "source": [
        "#declaration of cell"
      ],
      "metadata": {
        "id": "QcboaV3WYL24"
      }
    },
    {
      "cell_type": "code",
      "source": [
        "a=1\n",
        "print('the value of a is',a)"
      ],
      "metadata": {
        "colab": {
          "base_uri": "https://localhost:8080/"
        },
        "id": "F1NhDpfMYRD3",
        "outputId": "dec543df-dcf3-4df1-9e2d-a138b8b0bb05"
      },
      "execution_count": null,
      "outputs": [
        {
          "output_type": "stream",
          "name": "stdout",
          "text": [
            "the value of a is 1\n"
          ]
        }
      ]
    },
    {
      "cell_type": "markdown",
      "source": [
        "#Multiple assignment in a variable"
      ],
      "metadata": {
        "id": "HeMgCirnYp0I"
      }
    },
    {
      "cell_type": "code",
      "source": [
        "a,b = 10,20\n",
        "print(a,b)"
      ],
      "metadata": {
        "colab": {
          "base_uri": "https://localhost:8080/"
        },
        "id": "dwDiP4zSYwD4",
        "outputId": "9b56f66f-ac28-4f37-99d6-d1856d58d3c9"
      },
      "execution_count": null,
      "outputs": [
        {
          "output_type": "stream",
          "name": "stdout",
          "text": [
            "10 20\n"
          ]
        }
      ]
    },
    {
      "cell_type": "markdown",
      "source": [
        "#Multiple assignments with same valuse"
      ],
      "metadata": {
        "id": "PaFJ0ervY4xm"
      }
    },
    {
      "cell_type": "code",
      "source": [
        "a = b = 10\n",
        "print(a,b)"
      ],
      "metadata": {
        "colab": {
          "base_uri": "https://localhost:8080/"
        },
        "id": "5B36_Ma9ZADb",
        "outputId": "9f171bfd-28fb-4e6c-fc69-c2acd28c402a"
      },
      "execution_count": null,
      "outputs": [
        {
          "output_type": "stream",
          "name": "stdout",
          "text": [
            "10 10\n"
          ]
        }
      ]
    },
    {
      "cell_type": "markdown",
      "source": [
        "#Rules for naming variable\n",
        "\n",
        "1. Variable name can only contaion letters,digit and underscore\n",
        "2. A variable name cannot start with a digit\n",
        "3. variables name are case sensitive\n",
        "4. avoid using python key words such as if,else,class\n"
      ],
      "metadata": {
        "id": "N2fA0NXjZHW6"
      }
    },
    {
      "cell_type": "code",
      "source": [
        "a = 10\n",
        "class = 1\n",
        "user_name =\"Giridhar\"\n",
        "1_name = \"error\"\n",
        "print(a,class,user_name,1_name)"
      ],
      "metadata": {
        "colab": {
          "base_uri": "https://localhost:8080/",
          "height": 106
        },
        "id": "aO6-QqERZ2Kh",
        "outputId": "482658f1-aca5-4a65-a450-131f59ea31ee"
      },
      "execution_count": null,
      "outputs": [
        {
          "output_type": "error",
          "ename": "SyntaxError",
          "evalue": "invalid decimal literal (ipython-input-3970629924.py, line 4)",
          "traceback": [
            "\u001b[0;36m  File \u001b[0;32m\"/tmp/ipython-input-3970629924.py\"\u001b[0;36m, line \u001b[0;32m4\u001b[0m\n\u001b[0;31m    1_name = \"error\"\u001b[0m\n\u001b[0m     ^\u001b[0m\n\u001b[0;31mSyntaxError\u001b[0m\u001b[0;31m:\u001b[0m invalid decimal literal\n"
          ]
        }
      ]
    },
    {
      "cell_type": "markdown",
      "source": [
        "#String Datatypes"
      ],
      "metadata": {
        "id": "oUL0ok9dZ02t"
      }
    },
    {
      "cell_type": "markdown",
      "source": [
        "1.Array of datatypes representing unicode characters\n",
        "\n",
        "2.No seperate character datatype;a character is a string of length one\n",
        "\n",
        "3.String can be created using \"\n",
        "\n",
        "4.Acces individual character using indexing,starting at 0\n",
        "\n",
        "5.STRINgs are immutable\n",
        "\n",
        "6.str()"
      ],
      "metadata": {
        "id": "XGMKnxa0aBJv"
      }
    },
    {
      "cell_type": "code",
      "source": [
        "s1 = \"This is a string\"\n",
        "print(s1)\n",
        "s2= \"this \"+\"is \"+\"also \"+\"a \"+\"string\"\n",
        "print(s2)\n",
        "print(len(s1))\n",
        "print(len(s2))"
      ],
      "metadata": {
        "colab": {
          "base_uri": "https://localhost:8080/"
        },
        "id": "DROWZSSBbFxc",
        "outputId": "d8ff28b5-364c-4c5d-f041-688d6a43db6b"
      },
      "execution_count": null,
      "outputs": [
        {
          "output_type": "stream",
          "name": "stdout",
          "text": [
            "This is a string\n",
            "this is also a string\n",
            "16\n",
            "21\n"
          ]
        }
      ]
    },
    {
      "cell_type": "code",
      "source": [
        "s3 = \"this is a string \\\n",
        "written along multiple lines\"\n",
        "print(s3)"
      ],
      "metadata": {
        "colab": {
          "base_uri": "https://localhost:8080/"
        },
        "id": "LqUz3peUbkvN",
        "outputId": "6cddc3cf-25da-46a3-83cf-dfc4e9a8a0fe"
      },
      "execution_count": null,
      "outputs": [
        {
          "output_type": "stream",
          "name": "stdout",
          "text": [
            "this is a string written along multiple lines\n"
          ]
        }
      ]
    },
    {
      "cell_type": "code",
      "source": [
        "#multiply string with an integer to get multiple lines\n",
        "Iron_man = \"SMASH IT!\\n\"\n",
        "print(Iron_man*5)"
      ],
      "metadata": {
        "colab": {
          "base_uri": "https://localhost:8080/"
        },
        "id": "7IbOkYlkcJ2-",
        "outputId": "95e4ba5b-da7c-43fc-e1d3-46c99a1fd8ec"
      },
      "execution_count": null,
      "outputs": [
        {
          "output_type": "stream",
          "name": "stdout",
          "text": [
            "SMASH IT!\n",
            "SMASH IT!\n",
            "SMASH IT!\n",
            "SMASH IT!\n",
            "SMASH IT!\n",
            "\n"
          ]
        }
      ]
    },
    {
      "cell_type": "code",
      "source": [
        "Iron_man_2 = \"hello world = this is not a comment\"\n",
        "Iron_man_2"
      ],
      "metadata": {
        "colab": {
          "base_uri": "https://localhost:8080/",
          "height": 35
        },
        "id": "8FdEtHCkc52n",
        "outputId": "cb8ec7c5-1e84-40d8-b645-fac07d70678d"
      },
      "execution_count": null,
      "outputs": [
        {
          "output_type": "execute_result",
          "data": {
            "text/plain": [
              "'hello world = this is not a comment'"
            ],
            "application/vnd.google.colaboratory.intrinsic+json": {
              "type": "string"
            }
          },
          "metadata": {},
          "execution_count": 7
        }
      ]
    },
    {
      "cell_type": "code",
      "source": [
        "Avenger = \"IRONMAN\"\n",
        "length  = len(Avenger)\n",
        "#length\n",
        "first_ch=Avenger[0] # both are same -->firstch=Avenger[0]\n",
        "print(\"the first character is :\",(first_ch))"
      ],
      "metadata": {
        "colab": {
          "base_uri": "https://localhost:8080/"
        },
        "id": "sbezDOc8dd4W",
        "outputId": "c1b35cc9-9dbd-4fb5-9b29-976a1db9def6"
      },
      "execution_count": null,
      "outputs": [
        {
          "output_type": "stream",
          "name": "stdout",
          "text": [
            "the first character is : I\n"
          ]
        }
      ]
    },
    {
      "cell_type": "code",
      "source": [
        "#negative indexing\n",
        "last_ch=Avenger[-1]\n",
        "print(\"the last character is :\",last_ch)"
      ],
      "metadata": {
        "colab": {
          "base_uri": "https://localhost:8080/"
        },
        "id": "b231JcGNewyg",
        "outputId": "a0218fda-c704-4a8a-cd55-55addee4d3f8"
      },
      "execution_count": null,
      "outputs": [
        {
          "output_type": "stream",
          "name": "stdout",
          "text": [
            "the last character is : N\n"
          ]
        }
      ]
    },
    {
      "cell_type": "code",
      "source": [
        "#slicing\n",
        "slicing = Avenger[1:5]\n",
        "print(slicing)"
      ],
      "metadata": {
        "colab": {
          "base_uri": "https://localhost:8080/"
        },
        "id": "TBHyqfGofJgG",
        "outputId": "10ca40b4-1fef-40f8-e12f-81f29ecb3632"
      },
      "execution_count": null,
      "outputs": [
        {
          "output_type": "stream",
          "name": "stdout",
          "text": [
            "RONM\n"
          ]
        }
      ]
    },
    {
      "cell_type": "code",
      "source": [
        "#slicing\n",
        "slicing = Avenger[:6]\n",
        "print(slicing)"
      ],
      "metadata": {
        "colab": {
          "base_uri": "https://localhost:8080/"
        },
        "id": "uoEUihpSfreO",
        "outputId": "1ec2054d-216d-432f-a99d-a11b68339c70"
      },
      "execution_count": null,
      "outputs": [
        {
          "output_type": "stream",
          "name": "stdout",
          "text": [
            "IRONMA\n"
          ]
        }
      ]
    },
    {
      "cell_type": "code",
      "source": [
        "slicing = Avenger[1:]\n",
        "print(slicing)"
      ],
      "metadata": {
        "colab": {
          "base_uri": "https://localhost:8080/"
        },
        "id": "oJ2ItFfjjnWd",
        "outputId": "c78e8517-69e8-49ca-8446-537fef09b491"
      },
      "execution_count": null,
      "outputs": [
        {
          "output_type": "stream",
          "name": "stdout",
          "text": [
            "RONMAN\n"
          ]
        }
      ]
    },
    {
      "cell_type": "code",
      "source": [
        "slicing = Avenger[:-1]\n",
        "print(slicing)"
      ],
      "metadata": {
        "colab": {
          "base_uri": "https://localhost:8080/"
        },
        "id": "DrWAR7S5j5CL",
        "outputId": "d23c7280-9fdf-4c37-81b3-c33a92f8d6ed"
      },
      "execution_count": null,
      "outputs": [
        {
          "output_type": "stream",
          "name": "stdout",
          "text": [
            "IRONMA\n"
          ]
        }
      ]
    },
    {
      "cell_type": "code",
      "source": [
        "slicing = Avenger[::]\n",
        "print(slicing)"
      ],
      "metadata": {
        "colab": {
          "base_uri": "https://localhost:8080/"
        },
        "id": "PIH2C3Acj_4v",
        "outputId": "6ce635a2-6b01-4050-c955-6a4e03eb6829"
      },
      "execution_count": null,
      "outputs": [
        {
          "output_type": "stream",
          "name": "stdout",
          "text": [
            "IRONMAN\n"
          ]
        }
      ]
    },
    {
      "cell_type": "code",
      "source": [
        "Avenger[0] = \"0\"\n",
        "print(Avenger)\n",
        "#beacause strings are imutable"
      ],
      "metadata": {
        "colab": {
          "base_uri": "https://localhost:8080/",
          "height": 176
        },
        "id": "eSHO86IFkTcz",
        "outputId": "2e5715ac-c571-4184-f190-c603d2b9cac2"
      },
      "execution_count": null,
      "outputs": [
        {
          "output_type": "error",
          "ename": "TypeError",
          "evalue": "'str' object does not support item assignment",
          "traceback": [
            "\u001b[0;31m---------------------------------------------------------------------------\u001b[0m",
            "\u001b[0;31mTypeError\u001b[0m                                 Traceback (most recent call last)",
            "\u001b[0;32m/tmp/ipython-input-1401920150.py\u001b[0m in \u001b[0;36m<cell line: 0>\u001b[0;34m()\u001b[0m\n\u001b[0;32m----> 1\u001b[0;31m \u001b[0mAvenger\u001b[0m\u001b[0;34m[\u001b[0m\u001b[0;36m0\u001b[0m\u001b[0;34m]\u001b[0m \u001b[0;34m=\u001b[0m \u001b[0;34m\"0\"\u001b[0m\u001b[0;34m\u001b[0m\u001b[0;34m\u001b[0m\u001b[0m\n\u001b[0m\u001b[1;32m      2\u001b[0m \u001b[0mprint\u001b[0m\u001b[0;34m(\u001b[0m\u001b[0mAvenger\u001b[0m\u001b[0;34m)\u001b[0m\u001b[0;34m\u001b[0m\u001b[0;34m\u001b[0m\u001b[0m\n\u001b[1;32m      3\u001b[0m \u001b[0;31m#beacause strings are imutable\u001b[0m\u001b[0;34m\u001b[0m\u001b[0;34m\u001b[0m\u001b[0m\n",
            "\u001b[0;31mTypeError\u001b[0m: 'str' object does not support item assignment"
          ]
        }
      ]
    },
    {
      "cell_type": "code",
      "source": [
        "for ch in Avenger :\n",
        " print(ch)"
      ],
      "metadata": {
        "colab": {
          "base_uri": "https://localhost:8080/"
        },
        "id": "B-x44-T0lj6g",
        "outputId": "15ae9400-2911-4cf6-f719-34a8c40846a4"
      },
      "execution_count": null,
      "outputs": [
        {
          "output_type": "stream",
          "name": "stdout",
          "text": [
            "I\n",
            "R\n",
            "O\n",
            "N\n",
            "M\n",
            "A\n",
            "N\n"
          ]
        }
      ]
    },
    {
      "cell_type": "code",
      "source": [
        "for i in range(len(Avenger)):\n",
        "  print(i,Avenger[i])"
      ],
      "metadata": {
        "colab": {
          "base_uri": "https://localhost:8080/"
        },
        "id": "oyPLA86ml2q7",
        "outputId": "c08e0f76-144d-44fc-d09a-73795465f2c3"
      },
      "execution_count": null,
      "outputs": [
        {
          "output_type": "stream",
          "name": "stdout",
          "text": [
            "0 I\n",
            "1 R\n",
            "2 O\n",
            "3 N\n",
            "4 M\n",
            "5 A\n",
            "6 N\n"
          ]
        }
      ]
    },
    {
      "cell_type": "code",
      "source": [
        "n= len(Avenger)\n",
        "for i in range(len(Avenger)):\n",
        "  print((n-1)-i,Avenger[(n-1)-i])"
      ],
      "metadata": {
        "colab": {
          "base_uri": "https://localhost:8080/"
        },
        "id": "AyPi1sjcmdb0",
        "outputId": "2b12729a-29fe-42e9-879a-8e918ae8fc01"
      },
      "execution_count": null,
      "outputs": [
        {
          "output_type": "stream",
          "name": "stdout",
          "text": [
            "6 N\n",
            "5 A\n",
            "4 M\n",
            "3 N\n",
            "2 O\n",
            "1 R\n",
            "0 I\n"
          ]
        }
      ]
    },
    {
      "cell_type": "markdown",
      "source": [
        "#palindrome or not"
      ],
      "metadata": {
        "id": "HEOi70lnnpRm"
      }
    },
    {
      "cell_type": "code",
      "source": [
        "name = input()\n",
        "n=len(name)\n",
        "for name=name:\n",
        "  print(f)"
      ],
      "metadata": {
        "id": "Sd1u6GLi7Zb4"
      },
      "execution_count": null,
      "outputs": []
    },
    {
      "cell_type": "code",
      "source": [
        "a=\"\\u03C0\"\n",
        "print(a)"
      ],
      "metadata": {
        "colab": {
          "base_uri": "https://localhost:8080/"
        },
        "id": "fkjBq0gr8fJw",
        "outputId": "60c943a6-4911-4ca5-9850-405572139a6f"
      },
      "execution_count": 4,
      "outputs": [
        {
          "output_type": "stream",
          "name": "stdout",
          "text": [
            "π\n"
          ]
        }
      ]
    },
    {
      "cell_type": "markdown",
      "source": [
        "** ASCII VALUES **\n",
        "\n",
        "A - 65 , Z - 90\n",
        "\n"
      ],
      "metadata": {
        "id": "Qt2W4bKY8s7O"
      }
    },
    {
      "cell_type": "markdown",
      "source": [
        "In early 1960s a standard was published called american standard code for information interchange (ASCII) . it specify the mapping if binary value of characters , it uses 7-bit to represent the character (0-127) range a(97) to z (122), A(65) to Z(90)\n",
        "\n",
        "2. the SCII character sets is limited in that it cannot handle characters from other language , therefore unicode standard are proposed . Python3 uses unicode by default (utf-8). it defines more than one lakh characters . the prefix used to print the character in u example given below"
      ],
      "metadata": {
        "id": "1HZfBCPM86ae"
      }
    },
    {
      "cell_type": "code",
      "source": [
        "a=\"\\u03C0\"\n",
        "print(a)"
      ],
      "metadata": {
        "colab": {
          "base_uri": "https://localhost:8080/"
        },
        "id": "RA7WQXHA-b9H",
        "outputId": "501928dc-5da8-4b38-aa83-24928a74fbba"
      },
      "execution_count": 5,
      "outputs": [
        {
          "output_type": "stream",
          "name": "stdout",
          "text": [
            "π\n"
          ]
        }
      ]
    },
    {
      "cell_type": "markdown",
      "source": [
        "1. \\t it is used for horizontal tab\n",
        "2. \\a alert ,beep()\n",
        "3. \\b backspace ()\n",
        "4. \\n newline()\n",
        "5. \\v vertical tab(11)\n",
        "6. \\f new page (12)\n",
        "7. \\r carriage return(13)\n",
        "8. \\0 null or string terminator(0)"
      ],
      "metadata": {
        "id": "9zscZG-U-lu3"
      }
    },
    {
      "cell_type": "code",
      "source": [
        "print(\"iron man \\n Captian america\")\n",
        "print(\"hulk \\t black widow\")\n",
        "print(\"wanda\\'s vision\")\n",
        "print(\"C:\\\\Users\\\\giridhar\\\\OneDrive\\\\Documents\\\\algorithms lab\")"
      ],
      "metadata": {
        "colab": {
          "base_uri": "https://localhost:8080/"
        },
        "id": "xOfFXi_i_gt5",
        "outputId": "5088a0e1-0b6c-49f7-d5aa-5686c54f01d3"
      },
      "execution_count": 11,
      "outputs": [
        {
          "output_type": "stream",
          "name": "stdout",
          "text": [
            "iron man \n",
            " Captian america\n",
            "hulk \t black widow\n",
            "wanda's vision\n",
            "C:\\Users\\giridhar\\OneDrive\\Documents\\algorithms lab\n"
          ]
        }
      ]
    },
    {
      "cell_type": "code",
      "source": [
        "print(\"smash\\aspiderman\") #it will trigger a beep sound on supported terminals"
      ],
      "metadata": {
        "colab": {
          "base_uri": "https://localhost:8080/"
        },
        "id": "trCuBr47A_EP",
        "outputId": "b33f5dc8-3857-4bb2-c34c-4cac0ed40d2f"
      },
      "execution_count": 12,
      "outputs": [
        {
          "output_type": "stream",
          "name": "stdout",
          "text": [
            "smash\u0007spiderman\n"
          ]
        }
      ]
    },
    {
      "cell_type": "code",
      "source": [
        "print(\"walter white\\b jesse pinkman\")\n",
        "print(\"aegon \\f jon snow\")\n",
        "print(\"inka \\r modhaledadhama\")"
      ],
      "metadata": {
        "colab": {
          "base_uri": "https://localhost:8080/"
        },
        "id": "Wz-F4wLDBluE",
        "outputId": "c77e038a-17f5-40b7-a1b7-8911f67d589c"
      },
      "execution_count": 20,
      "outputs": [
        {
          "output_type": "stream",
          "name": "stdout",
          "text": [
            "walter white\b jesse pinkman\n",
            "aegon \f jon snow\n",
            "inka \r modhaledadhama\n"
          ]
        }
      ]
    },
    {
      "cell_type": "code",
      "source": [
        "x=\"TONY STARK\"\n",
        "print(x.lower())\n",
        "y=\"heisenberg\"\n",
        "print(y.upper())"
      ],
      "metadata": {
        "colab": {
          "base_uri": "https://localhost:8080/"
        },
        "id": "50eLpSkwCYBA",
        "outputId": "0793caae-d944-4628-ff7b-74f06faea41a"
      },
      "execution_count": 21,
      "outputs": [
        {
          "output_type": "stream",
          "name": "stdout",
          "text": [
            "tony stark\n",
            "HEISENBERG\n"
          ]
        }
      ]
    },
    {
      "cell_type": "markdown",
      "source": [
        "Application\n",
        "1. .lower(), .upper() is used to lower or capitalize the characters in a given string . These methods can be used for normalization to ensure the consistent case for the embedding in NLP"
      ],
      "metadata": {
        "id": "wOmavcNfC_rO"
      }
    },
    {
      "cell_type": "markdown",
      "source": [
        "#Spilt method"
      ],
      "metadata": {
        "id": "tE5M5gWMDcPm"
      }
    },
    {
      "cell_type": "markdown",
      "source": [
        "1. the strip method in python is designed to remove the leading amd trailing whitespaces characters or specific character from the sting . it does not remove the spaces which occcur in the middle of the string.\n",
        "2. replace -- 2 arguments"
      ],
      "metadata": {
        "id": "iTWWEbIIFA2Z"
      }
    },
    {
      "cell_type": "code",
      "source": [
        "X= \"@BRUCE BANNER\"\n",
        "print(X.strip(\" & \"))\n",
        "print(X.replace(\" \",\"\")) #Replace -- two arguments"
      ],
      "metadata": {
        "colab": {
          "base_uri": "https://localhost:8080/"
        },
        "id": "51h519fQEDO9",
        "outputId": "6237eab0-d5ac-47ff-8cdd-e4806802d243"
      },
      "execution_count": 24,
      "outputs": [
        {
          "output_type": "stream",
          "name": "stdout",
          "text": [
            "@BRUCE BANNER\n",
            "@BRUCEBANNER\n"
          ]
        }
      ]
    },
    {
      "cell_type": "markdown",
      "source": [
        "the application are\n",
        "1. cleaning the data .\n",
        "2. you can replace the null value with any character\n",
        "3. correcting the text ex:typos/slang"
      ],
      "metadata": {
        "id": "sMwdzmT2F3fv"
      }
    },
    {
      "cell_type": "code",
      "source": [
        "#split - \"this movie is amazing .\"\n",
        "s = \"this movie is amazing . i like this movie\"\n",
        "p = s.split()\n",
        "print(\" \".join(p))"
      ],
      "metadata": {
        "colab": {
          "base_uri": "https://localhost:8080/"
        },
        "id": "AYfnEJNfGpt1",
        "outputId": "3cf19d48-f7a4-4daa-aa0b-6f353138da4b"
      },
      "execution_count": 30,
      "outputs": [
        {
          "output_type": "stream",
          "name": "stdout",
          "text": [
            "this movie is amazing . i like this movie\n"
          ]
        }
      ]
    },
    {
      "cell_type": "markdown",
      "source": [
        "Application\n",
        "1. split/join is used for tokenization\n",
        "2. the method involves splitting the string into a list of word as a spaces as a delimeter . This delimeter automatically handles multiple spaces between words."
      ],
      "metadata": {
        "id": "5KZBxJm2JTYu"
      }
    }
  ]
}